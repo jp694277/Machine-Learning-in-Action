{
 "cells": [
  {
   "cell_type": "markdown",
   "id": "gorgeous-horizon",
   "metadata": {},
   "source": [
    "- DM 10th Algorithm    \n",
    "  C4.5 Decision Tree, K-mean, SVM, Apriori, EM, PageRank, AdaBoost, KNN, Naive Bayes,CART"
   ]
  },
  {
   "cell_type": "markdown",
   "id": "unusual-temple",
   "metadata": {},
   "source": [
    "- 為什麼要使用統計學？   \n",
    "  因為在現實世界中，我們無法使用精確的數學模型，來判別人類行為和思想，因此需要統計學的幫助。"
   ]
  },
  {
   "cell_type": "markdown",
   "id": "contemporary-sierra",
   "metadata": {},
   "source": [
    "- 如何從海量數據中抽取到有價值的信息是一個非常重要的課題"
   ]
  },
  {
   "cell_type": "markdown",
   "id": "complete-camera",
   "metadata": {},
   "source": [
    "- 現今的工作類似於：最大化利潤、最小化風險、找到最好的市場策略"
   ]
  },
  {
   "cell_type": "markdown",
   "id": "other-optimum",
   "metadata": {},
   "source": [
    "- 使用鳥類專家的例子來帶入feature, classification, training set, testing set"
   ]
  },
  {
   "cell_type": "markdown",
   "id": "limited-enemy",
   "metadata": {},
   "source": [
    "- 監督學習：\n",
    "  K-NN, Naive Bayes classifier, SVM, Decision Tree, Linear Regression, Locally Weighted Linear Regression, Ridge, Lasso\n",
    "- 無監督學習：\n",
    "  K-mean, DBSCAN, EM, Parzen"
   ]
  },
  {
   "cell_type": "markdown",
   "id": "enormous-trainer",
   "metadata": {},
   "source": [
    "- 主要需要了解：    \n",
    "  特徵值是離散型變數還是連續型變數、特徵值中是否存在遺失值、為何有遺失值（原因）、是否有離群值、某個特徵發生的頻率如何"
   ]
  },
  {
   "cell_type": "code",
   "execution_count": 1,
   "id": "operating-render",
   "metadata": {},
   "outputs": [],
   "source": [
    "from numpy import *"
   ]
  },
  {
   "cell_type": "code",
   "execution_count": 2,
   "id": "loving-dominant",
   "metadata": {},
   "outputs": [
    {
     "data": {
      "text/plain": [
       "array([[0.46327179, 0.17069736, 0.53303374, 0.66971448],\n",
       "       [0.90672927, 0.80831828, 0.25837841, 0.33172634],\n",
       "       [0.2188115 , 0.28772135, 0.28754157, 0.16008404],\n",
       "       [0.51873643, 0.08659432, 0.62799188, 0.26504936]])"
      ]
     },
     "execution_count": 2,
     "metadata": {},
     "output_type": "execute_result"
    }
   ],
   "source": [
    "random.rand(4,4)"
   ]
  },
  {
   "cell_type": "code",
   "execution_count": 3,
   "id": "manufactured-greensboro",
   "metadata": {},
   "outputs": [
    {
     "name": "stdout",
     "output_type": "stream",
     "text": [
      "[[ 0.26244953 -0.05231811 -1.61009352  1.28004421]\n",
      " [-0.10385477  1.50976892  0.39391622 -0.44169088]\n",
      " [ 2.36217843 -0.92182967 -2.52690763  0.02193393]\n",
      " [-1.52955999 -0.33992199  3.38269446  0.09478732]]\n"
     ]
    }
   ],
   "source": [
    "randMat = mat(random.rand(4,4))\n",
    "print(randMat.I)"
   ]
  },
  {
   "cell_type": "code",
   "execution_count": 4,
   "id": "worth-channels",
   "metadata": {},
   "outputs": [
    {
     "name": "stdout",
     "output_type": "stream",
     "text": [
      "[[ 1.00000000e+00  2.73288333e-17  4.92268602e-16  2.99423028e-19]\n",
      " [ 1.79016356e-17  1.00000000e+00  5.11060779e-17 -1.40637309e-17]\n",
      " [-7.76469386e-17  4.38766594e-17  1.00000000e+00 -1.24688775e-17]\n",
      " [ 2.18175163e-17  3.68975558e-17  2.04365565e-16  1.00000000e+00]]\n"
     ]
    }
   ],
   "source": [
    "invRandMat = randMat.I\n",
    "print(randMat * invRandMat)"
   ]
  },
  {
   "cell_type": "code",
   "execution_count": 5,
   "id": "annual-norfolk",
   "metadata": {},
   "outputs": [
    {
     "name": "stdout",
     "output_type": "stream",
     "text": [
      "[[-2.22044605e-16  2.73288333e-17  4.92268602e-16  2.99423028e-19]\n",
      " [ 1.79016356e-17  0.00000000e+00  5.11060779e-17 -1.40637309e-17]\n",
      " [-7.76469386e-17  4.38766594e-17  2.22044605e-16 -1.24688775e-17]\n",
      " [ 2.18175163e-17  3.68975558e-17  2.04365565e-16 -1.11022302e-16]]\n"
     ]
    }
   ],
   "source": [
    "myEye = randMat * invRandMat\n",
    "print(myEye - eye(4))"
   ]
  },
  {
   "cell_type": "code",
   "execution_count": 6,
   "id": "pressed-blade",
   "metadata": {},
   "outputs": [
    {
     "data": {
      "text/plain": [
       "array([[1., 0., 0., 0.],\n",
       "       [0., 1., 0., 0.],\n",
       "       [0., 0., 1., 0.],\n",
       "       [0., 0., 0., 1.]])"
      ]
     },
     "execution_count": 6,
     "metadata": {},
     "output_type": "execute_result"
    }
   ],
   "source": [
    "eye(4)"
   ]
  },
  {
   "cell_type": "code",
   "execution_count": null,
   "id": "permanent-hearts",
   "metadata": {},
   "outputs": [],
   "source": []
  },
  {
   "cell_type": "code",
   "execution_count": null,
   "id": "fifth-comfort",
   "metadata": {},
   "outputs": [],
   "source": []
  },
  {
   "cell_type": "code",
   "execution_count": null,
   "id": "guilty-ballot",
   "metadata": {},
   "outputs": [],
   "source": []
  }
 ],
 "metadata": {
  "kernelspec": {
   "display_name": "Python 3",
   "language": "python",
   "name": "python3"
  },
  "language_info": {
   "codemirror_mode": {
    "name": "ipython",
    "version": 3
   },
   "file_extension": ".py",
   "mimetype": "text/x-python",
   "name": "python",
   "nbconvert_exporter": "python",
   "pygments_lexer": "ipython3",
   "version": "3.8.3"
  }
 },
 "nbformat": 4,
 "nbformat_minor": 5
}
